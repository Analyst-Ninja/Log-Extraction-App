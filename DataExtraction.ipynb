{
 "cells": [
  {
   "cell_type": "code",
   "execution_count": 32,
   "id": "db9b88df-8d20-4775-804b-0ad01679c8dc",
   "metadata": {},
   "outputs": [
    {
     "name": "stdout",
     "output_type": "stream",
     "text": [
      "Collecting openpyxl\n",
      "  Downloading openpyxl-3.1.2-py2.py3-none-any.whl (249 kB)\n",
      "     ---------------------------------------- 0.0/250.0 kB ? eta -:--:--\n",
      "     ------------ -------------------------- 81.9/250.0 kB 2.3 MB/s eta 0:00:01\n",
      "     ------------ -------------------------- 81.9/250.0 kB 2.3 MB/s eta 0:00:01\n",
      "     ---------------- ------------------- 112.6/250.0 kB 726.2 kB/s eta 0:00:01\n",
      "     ---------------- ------------------- 112.6/250.0 kB 726.2 kB/s eta 0:00:01\n",
      "     -------------------- --------------- 143.4/250.0 kB 607.9 kB/s eta 0:00:01\n",
      "     ----------------------- ------------ 163.8/250.0 kB 656.4 kB/s eta 0:00:01\n",
      "     ----------------------------- ------ 204.8/250.0 kB 593.2 kB/s eta 0:00:01\n",
      "     -------------------------------- --- 225.3/250.0 kB 655.6 kB/s eta 0:00:01\n",
      "     ------------------------------------ 250.0/250.0 kB 613.2 kB/s eta 0:00:00\n",
      "Collecting et-xmlfile (from openpyxl)\n",
      "  Downloading et_xmlfile-1.1.0-py3-none-any.whl (4.7 kB)\n",
      "Installing collected packages: et-xmlfile, openpyxl\n",
      "Successfully installed et-xmlfile-1.1.0 openpyxl-3.1.2\n"
     ]
    }
   ],
   "source": [
    "!pip install openpyxl"
   ]
  },
  {
   "cell_type": "code",
   "execution_count": 44,
   "id": "a576ee52-299b-4b59-b5b1-a6533709c05d",
   "metadata": {},
   "outputs": [],
   "source": [
    "import re \n",
    "import pandas as pd\n",
    "from datetime import datetime"
   ]
  },
  {
   "cell_type": "code",
   "execution_count": 45,
   "id": "21d98db6-02e9-4d5c-814b-51b9b8487203",
   "metadata": {},
   "outputs": [],
   "source": [
    "file = open('log1.txt', \"r\")\n",
    "lines = file.readlines()"
   ]
  },
  {
   "cell_type": "code",
   "execution_count": 46,
   "id": "c5a225de-39ac-4ba1-9b24-4d5de88b2cf1",
   "metadata": {},
   "outputs": [],
   "source": [
    "l = []\n",
    "for i in lines:\n",
    "    if (i.find(\"Query\") != -1 or i.find(\"recycle\") != -1) and i.find(\"took\") == -1:\n",
    "        l.append(i)  "
   ]
  },
  {
   "cell_type": "code",
   "execution_count": 50,
   "id": "3b6a1383-02d3-4190-9291-0058f84ee7be",
   "metadata": {
    "scrolled": true
   },
   "outputs": [],
   "source": [
    "timestamps, query_num, recycles, pLDDTs, pTMs, ipTMs, tols, length = [], [], [], [], [], [], [], []\n",
    "\n",
    "for i in l:\n",
    "    if i.find(\"Query\") != -1:\n",
    "        query_match = re.search(r'Query (\\d+)', i)\n",
    "        if query_match:\n",
    "            query_number = query_match.group(1)\n",
    "        length_match = re.search(r'length (\\d+)', i)\n",
    "        if length_match:\n",
    "            length_value = length_match.group(1)\n",
    "    else:\n",
    "        match = re.search(r\"(\\d{4}-\\d{2}-\\d{2} \\d{2}:\\d{2}:\\d{2},\\d{3}).*recycle=(\\d+) pLDDT=([\\d.]+) pTM=([\\d.]+) ipTM=([\\d.]+)( tol=([\\d.]+))?\", i)\n",
    "        if match:\n",
    "            # print(match.group(1))\n",
    "            # print(match.group(2))\n",
    "            # print(match.group(3))\n",
    "            # print(match.group(4))\n",
    "            # print(match.group(5))\n",
    "            # print(match.group(6))\n",
    "            timestamps.append(match.group(1))\n",
    "            recycles.append(float(match.group(2)))\n",
    "            pLDDTs.append(float(match.group(3)))\n",
    "            pTMs.append(float(match.group(4)))\n",
    "            ipTMs.append(float(match.group(5)))\n",
    "            tols.append(float(match.group(7)) if match.group(7) else None)\n",
    "            query_num.append(float(query_number))\n",
    "            length.append(float(length_value))\n",
    "# Create a DataFrame\n",
    "df = pd.DataFrame({\n",
    "    'Timestamp': timestamps,\n",
    "    'Query_num': query_num,\n",
    "    'Length' : length,\n",
    "    'Recycle': recycles,\n",
    "    'pLDDT': pLDDTs,\n",
    "    'pTM': pTMs,\n",
    "    'ipTM': ipTMs,\n",
    "    'Tol': tols\n",
    "})\n",
    "def convert_to_ts(str):\n",
    "    return datetime.strptime(str, \"%Y-%m-%d %H:%M:%S,%f\")\n",
    "df['Timestamp_final'] = df['Timestamp'].apply(convert_to_ts)\n",
    "df.drop(columns=[\"Timestamp\"] , inplace = True)\n",
    "df.to_excel(\"Export.xlsx\", index = False)"
   ]
  },
  {
   "cell_type": "code",
   "execution_count": null,
   "id": "1e4baf9b-b78c-4b8e-9b72-365f4ba00408",
   "metadata": {},
   "outputs": [],
   "source": []
  },
  {
   "cell_type": "code",
   "execution_count": null,
   "id": "9c83f71f-d848-49cb-b0ac-6b03c1a64a38",
   "metadata": {},
   "outputs": [],
   "source": []
  },
  {
   "cell_type": "code",
   "execution_count": null,
   "id": "4d1ada68-51bd-408b-a154-070c53719083",
   "metadata": {},
   "outputs": [],
   "source": []
  }
 ],
 "metadata": {
  "kernelspec": {
   "display_name": "Python 3 (ipykernel)",
   "language": "python",
   "name": "python3"
  },
  "language_info": {
   "codemirror_mode": {
    "name": "ipython",
    "version": 3
   },
   "file_extension": ".py",
   "mimetype": "text/x-python",
   "name": "python",
   "nbconvert_exporter": "python",
   "pygments_lexer": "ipython3",
   "version": "3.11.5"
  }
 },
 "nbformat": 4,
 "nbformat_minor": 5
}
